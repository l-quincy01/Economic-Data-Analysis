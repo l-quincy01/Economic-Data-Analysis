{
 "cells": [
  {
   "cell_type": "code",
   "execution_count": 1,
   "id": "cb4bf6de",
   "metadata": {
    "_cell_guid": "b1076dfc-b9ad-4769-8c92-a6c4dae69d19",
    "_uuid": "8f2839f25d086af736a60e9eeb907d3b93b6e0e5",
    "execution": {
     "iopub.execute_input": "2025-01-05T20:48:07.260118Z",
     "iopub.status.busy": "2025-01-05T20:48:07.259666Z",
     "iopub.status.idle": "2025-01-05T20:48:07.666567Z",
     "shell.execute_reply": "2025-01-05T20:48:07.665414Z"
    },
    "papermill": {
     "duration": 0.413762,
     "end_time": "2025-01-05T20:48:07.669010",
     "exception": false,
     "start_time": "2025-01-05T20:48:07.255248",
     "status": "completed"
    },
    "tags": []
   },
   "outputs": [],
   "source": [
    "# This Python 3 environment comes with many helpful analytics libraries installed\n",
    "# It is defined by the kaggle/python Docker image: https://github.com/kaggle/docker-python\n",
    "# For example, here's several helpful packages to load\n",
    "\n",
    "import numpy as np # linear algebra\n",
    "import pandas as pd # data processing, CSV file I/O (e.g. pd.read_csv)\n",
    "\n",
    "# Input data files are available in the read-only \"../input/\" directory\n",
    "# For example, running this (by clicking run or pressing Shift+Enter) will list all files under the input directory\n",
    "\n",
    "import os\n",
    "for dirname, _, filenames in os.walk('/kaggle/input'):\n",
    "    for filename in filenames:\n",
    "        print(os.path.join(dirname, filename))\n",
    "\n",
    "# You can write up to 20GB to the current directory (/kaggle/working/) that gets preserved as output when you create a version using \"Save & Run All\" \n",
    "# You can also write temporary files to /kaggle/temp/, but they won't be saved outside of the current session"
   ]
  },
  {
   "cell_type": "code",
   "execution_count": 2,
   "id": "7bd65d9e",
   "metadata": {
    "execution": {
     "iopub.execute_input": "2025-01-05T20:48:07.676234Z",
     "iopub.status.busy": "2025-01-05T20:48:07.675694Z",
     "iopub.status.idle": "2025-01-05T20:48:08.307984Z",
     "shell.execute_reply": "2025-01-05T20:48:08.306690Z"
    },
    "papermill": {
     "duration": 0.638126,
     "end_time": "2025-01-05T20:48:08.310375",
     "exception": false,
     "start_time": "2025-01-05T20:48:07.672249",
     "status": "completed"
    },
    "tags": []
   },
   "outputs": [],
   "source": [
    "import pandas as pd\n",
    "import numpy as np \n",
    "import matplotlib.pyplot as plt\n",
    "import plotly.express as px \n",
    "from kaggle_secrets import UserSecretsClient\n",
    "\n",
    "plt.style.use('fivethirtyeight')\n",
    "#pd.set_option('max_columns', 500)\n",
    "color_pal = plt.rcParams[\"axes.prop_cycle\"].by_key()[\"color\"]\n",
    "\n",
    "\n",
    "env = UserSecretsClient()\n",
    "fred_key = env.get_secret('FRED-API')\n"
   ]
  },
  {
   "cell_type": "code",
   "execution_count": 3,
   "id": "fa1de110",
   "metadata": {
    "execution": {
     "iopub.execute_input": "2025-01-05T20:48:08.317482Z",
     "iopub.status.busy": "2025-01-05T20:48:08.316772Z",
     "iopub.status.idle": "2025-01-05T20:48:14.866789Z",
     "shell.execute_reply": "2025-01-05T20:48:14.865227Z"
    },
    "papermill": {
     "duration": 6.55592,
     "end_time": "2025-01-05T20:48:14.869154",
     "exception": false,
     "start_time": "2025-01-05T20:48:08.313234",
     "status": "completed"
    },
    "tags": []
   },
   "outputs": [
    {
     "name": "stdout",
     "output_type": "stream",
     "text": [
      "Collecting fredapi\r\n",
      "  Downloading fredapi-0.5.2-py3-none-any.whl.metadata (5.0 kB)\r\n",
      "Requirement already satisfied: pandas in /usr/local/lib/python3.10/dist-packages (from fredapi) (2.1.4)\r\n",
      "Requirement already satisfied: numpy<2,>=1.22.4 in /usr/local/lib/python3.10/dist-packages (from pandas->fredapi) (1.26.4)\r\n",
      "Requirement already satisfied: python-dateutil>=2.8.2 in /usr/local/lib/python3.10/dist-packages (from pandas->fredapi) (2.8.2)\r\n",
      "Requirement already satisfied: pytz>=2020.1 in /usr/local/lib/python3.10/dist-packages (from pandas->fredapi) (2024.2)\r\n",
      "Requirement already satisfied: tzdata>=2022.1 in /usr/local/lib/python3.10/dist-packages (from pandas->fredapi) (2024.1)\r\n",
      "Requirement already satisfied: six>=1.5 in /usr/local/lib/python3.10/dist-packages (from python-dateutil>=2.8.2->pandas->fredapi) (1.16.0)\r\n",
      "Downloading fredapi-0.5.2-py3-none-any.whl (11 kB)\r\n",
      "Installing collected packages: fredapi\r\n",
      "Successfully installed fredapi-0.5.2\r\n"
     ]
    }
   ],
   "source": [
    "!pip install fredapi "
   ]
  },
  {
   "cell_type": "markdown",
   "id": "7ebf998e",
   "metadata": {
    "papermill": {
     "duration": 0.002539,
     "end_time": "2025-01-05T20:48:14.874709",
     "exception": false,
     "start_time": "2025-01-05T20:48:14.872170",
     "status": "completed"
    },
    "tags": []
   },
   "source": [
    "# 1. Create Fred Object"
   ]
  },
  {
   "cell_type": "code",
   "execution_count": 4,
   "id": "cdbb37da",
   "metadata": {
    "execution": {
     "iopub.execute_input": "2025-01-05T20:48:14.881917Z",
     "iopub.status.busy": "2025-01-05T20:48:14.881309Z",
     "iopub.status.idle": "2025-01-05T20:48:15.756543Z",
     "shell.execute_reply": "2025-01-05T20:48:15.755244Z"
    },
    "papermill": {
     "duration": 0.881617,
     "end_time": "2025-01-05T20:48:15.758946",
     "exception": false,
     "start_time": "2025-01-05T20:48:14.877329",
     "status": "completed"
    },
    "tags": []
   },
   "outputs": [
    {
     "data": {
      "text/html": [
       "<div>\n",
       "<style scoped>\n",
       "    .dataframe tbody tr th:only-of-type {\n",
       "        vertical-align: middle;\n",
       "    }\n",
       "\n",
       "    .dataframe tbody tr th {\n",
       "        vertical-align: top;\n",
       "    }\n",
       "\n",
       "    .dataframe thead th {\n",
       "        text-align: right;\n",
       "    }\n",
       "</style>\n",
       "<table border=\"1\" class=\"dataframe\">\n",
       "  <thead>\n",
       "    <tr style=\"text-align: right;\">\n",
       "      <th></th>\n",
       "      <th>id</th>\n",
       "      <th>realtime_start</th>\n",
       "      <th>realtime_end</th>\n",
       "      <th>title</th>\n",
       "      <th>observation_start</th>\n",
       "      <th>observation_end</th>\n",
       "      <th>frequency</th>\n",
       "      <th>frequency_short</th>\n",
       "      <th>units</th>\n",
       "      <th>units_short</th>\n",
       "      <th>seasonal_adjustment</th>\n",
       "      <th>seasonal_adjustment_short</th>\n",
       "      <th>last_updated</th>\n",
       "      <th>popularity</th>\n",
       "      <th>notes</th>\n",
       "    </tr>\n",
       "    <tr>\n",
       "      <th>series id</th>\n",
       "      <th></th>\n",
       "      <th></th>\n",
       "      <th></th>\n",
       "      <th></th>\n",
       "      <th></th>\n",
       "      <th></th>\n",
       "      <th></th>\n",
       "      <th></th>\n",
       "      <th></th>\n",
       "      <th></th>\n",
       "      <th></th>\n",
       "      <th></th>\n",
       "      <th></th>\n",
       "      <th></th>\n",
       "      <th></th>\n",
       "    </tr>\n",
       "  </thead>\n",
       "  <tbody>\n",
       "    <tr>\n",
       "      <th>LRUN64TTZAQ156S</th>\n",
       "      <td>LRUN64TTZAQ156S</td>\n",
       "      <td>2025-01-05</td>\n",
       "      <td>2025-01-05</td>\n",
       "      <td>Infra-Annual Labor Statistics: Unemployment Ra...</td>\n",
       "      <td>2000-07-01</td>\n",
       "      <td>2024-07-01</td>\n",
       "      <td>Quarterly</td>\n",
       "      <td>Q</td>\n",
       "      <td>Percent</td>\n",
       "      <td>%</td>\n",
       "      <td>Seasonally Adjusted</td>\n",
       "      <td>SA</td>\n",
       "      <td>2024-12-16 13:44:03-06:00</td>\n",
       "      <td>29</td>\n",
       "      <td>OECD Data Filters:  REF_AREA: ZAF MEASURE: UNE...</td>\n",
       "    </tr>\n",
       "    <tr>\n",
       "      <th>LRUN64TTZAA156S</th>\n",
       "      <td>LRUN64TTZAA156S</td>\n",
       "      <td>2025-01-05</td>\n",
       "      <td>2025-01-05</td>\n",
       "      <td>Infra-Annual Labor Statistics: Unemployment Ra...</td>\n",
       "      <td>2000-01-01</td>\n",
       "      <td>2023-01-01</td>\n",
       "      <td>Annual</td>\n",
       "      <td>A</td>\n",
       "      <td>Percent</td>\n",
       "      <td>%</td>\n",
       "      <td>Seasonally Adjusted</td>\n",
       "      <td>SA</td>\n",
       "      <td>2024-04-10 11:19:05-05:00</td>\n",
       "      <td>2</td>\n",
       "      <td>OECD Data Filters:  REF_AREA: ZAF MEASURE: UNE...</td>\n",
       "    </tr>\n",
       "    <tr>\n",
       "      <th>LRUN64TTZAQ156N</th>\n",
       "      <td>LRUN64TTZAQ156N</td>\n",
       "      <td>2025-01-05</td>\n",
       "      <td>2025-01-05</td>\n",
       "      <td>Infra-Annual Labor Statistics: Unemployment Ra...</td>\n",
       "      <td>2000-07-01</td>\n",
       "      <td>2024-07-01</td>\n",
       "      <td>Quarterly</td>\n",
       "      <td>Q</td>\n",
       "      <td>Percent</td>\n",
       "      <td>%</td>\n",
       "      <td>Not Seasonally Adjusted</td>\n",
       "      <td>NSA</td>\n",
       "      <td>2024-12-16 13:44:18-06:00</td>\n",
       "      <td>2</td>\n",
       "      <td>OECD Data Filters:  REF_AREA: ZAF MEASURE: UNE...</td>\n",
       "    </tr>\n",
       "    <tr>\n",
       "      <th>LRUN64TTZAA156N</th>\n",
       "      <td>LRUN64TTZAA156N</td>\n",
       "      <td>2025-01-05</td>\n",
       "      <td>2025-01-05</td>\n",
       "      <td>Infra-Annual Labor Statistics: Unemployment Ra...</td>\n",
       "      <td>2000-01-01</td>\n",
       "      <td>2023-01-01</td>\n",
       "      <td>Annual</td>\n",
       "      <td>A</td>\n",
       "      <td>Percent</td>\n",
       "      <td>%</td>\n",
       "      <td>Not Seasonally Adjusted</td>\n",
       "      <td>NSA</td>\n",
       "      <td>2024-04-10 11:41:08-05:00</td>\n",
       "      <td>1</td>\n",
       "      <td>OECD Data Filters:  REF_AREA: ZAF MEASURE: UNE...</td>\n",
       "    </tr>\n",
       "    <tr>\n",
       "      <th>LRUNTTTTZAQ156S</th>\n",
       "      <td>LRUNTTTTZAQ156S</td>\n",
       "      <td>2025-01-05</td>\n",
       "      <td>2025-01-05</td>\n",
       "      <td>Infra-Annual Labor Statistics: Unemployment Ra...</td>\n",
       "      <td>2000-07-01</td>\n",
       "      <td>2024-07-01</td>\n",
       "      <td>Quarterly</td>\n",
       "      <td>Q</td>\n",
       "      <td>Percent</td>\n",
       "      <td>%</td>\n",
       "      <td>Seasonally Adjusted</td>\n",
       "      <td>SA</td>\n",
       "      <td>2024-12-16 13:44:18-06:00</td>\n",
       "      <td>5</td>\n",
       "      <td>OECD Data Filters:  REF_AREA: ZAF MEASURE: UNE...</td>\n",
       "    </tr>\n",
       "    <tr>\n",
       "      <th>...</th>\n",
       "      <td>...</td>\n",
       "      <td>...</td>\n",
       "      <td>...</td>\n",
       "      <td>...</td>\n",
       "      <td>...</td>\n",
       "      <td>...</td>\n",
       "      <td>...</td>\n",
       "      <td>...</td>\n",
       "      <td>...</td>\n",
       "      <td>...</td>\n",
       "      <td>...</td>\n",
       "      <td>...</td>\n",
       "      <td>...</td>\n",
       "      <td>...</td>\n",
       "      <td>...</td>\n",
       "    </tr>\n",
       "    <tr>\n",
       "      <th>LRUNTTMAZAQ156S</th>\n",
       "      <td>LRUNTTMAZAQ156S</td>\n",
       "      <td>2025-01-05</td>\n",
       "      <td>2025-01-05</td>\n",
       "      <td>Infra-Annual Labor Statistics: Unemployment Ra...</td>\n",
       "      <td>2000-07-01</td>\n",
       "      <td>2024-07-01</td>\n",
       "      <td>Quarterly</td>\n",
       "      <td>Q</td>\n",
       "      <td>Percent</td>\n",
       "      <td>%</td>\n",
       "      <td>Seasonally Adjusted</td>\n",
       "      <td>SA</td>\n",
       "      <td>2024-12-16 13:46:33-06:00</td>\n",
       "      <td>0</td>\n",
       "      <td>OECD Data Filters:  REF_AREA: ZAF MEASURE: UNE...</td>\n",
       "    </tr>\n",
       "    <tr>\n",
       "      <th>LRUNTTFEZAA156N</th>\n",
       "      <td>LRUNTTFEZAA156N</td>\n",
       "      <td>2025-01-05</td>\n",
       "      <td>2025-01-05</td>\n",
       "      <td>Infra-Annual Labor Statistics: Unemployment Ra...</td>\n",
       "      <td>2000-01-01</td>\n",
       "      <td>2023-01-01</td>\n",
       "      <td>Annual</td>\n",
       "      <td>A</td>\n",
       "      <td>Percent</td>\n",
       "      <td>%</td>\n",
       "      <td>Not Seasonally Adjusted</td>\n",
       "      <td>NSA</td>\n",
       "      <td>2024-04-10 12:23:47-05:00</td>\n",
       "      <td>0</td>\n",
       "      <td>OECD Data Filters:  REF_AREA: ZAF MEASURE: UNE...</td>\n",
       "    </tr>\n",
       "    <tr>\n",
       "      <th>LRUNTTFEZAA156S</th>\n",
       "      <td>LRUNTTFEZAA156S</td>\n",
       "      <td>2025-01-05</td>\n",
       "      <td>2025-01-05</td>\n",
       "      <td>Infra-Annual Labor Statistics: Unemployment Ra...</td>\n",
       "      <td>2000-01-01</td>\n",
       "      <td>2023-01-01</td>\n",
       "      <td>Annual</td>\n",
       "      <td>A</td>\n",
       "      <td>Percent</td>\n",
       "      <td>%</td>\n",
       "      <td>Seasonally Adjusted</td>\n",
       "      <td>SA</td>\n",
       "      <td>2024-04-10 12:23:47-05:00</td>\n",
       "      <td>0</td>\n",
       "      <td>OECD Data Filters:  REF_AREA: ZAF MEASURE: UNE...</td>\n",
       "    </tr>\n",
       "    <tr>\n",
       "      <th>LRUNTTFEZAQ156N</th>\n",
       "      <td>LRUNTTFEZAQ156N</td>\n",
       "      <td>2025-01-05</td>\n",
       "      <td>2025-01-05</td>\n",
       "      <td>Infra-Annual Labor Statistics: Unemployment Ra...</td>\n",
       "      <td>2000-07-01</td>\n",
       "      <td>2024-07-01</td>\n",
       "      <td>Quarterly</td>\n",
       "      <td>Q</td>\n",
       "      <td>Percent</td>\n",
       "      <td>%</td>\n",
       "      <td>Not Seasonally Adjusted</td>\n",
       "      <td>NSA</td>\n",
       "      <td>2024-12-16 13:46:34-06:00</td>\n",
       "      <td>0</td>\n",
       "      <td>OECD Data Filters:  REF_AREA: ZAF MEASURE: UNE...</td>\n",
       "    </tr>\n",
       "    <tr>\n",
       "      <th>LRUNTTFEZAQ156S</th>\n",
       "      <td>LRUNTTFEZAQ156S</td>\n",
       "      <td>2025-01-05</td>\n",
       "      <td>2025-01-05</td>\n",
       "      <td>Infra-Annual Labor Statistics: Unemployment Ra...</td>\n",
       "      <td>2000-07-01</td>\n",
       "      <td>2024-07-01</td>\n",
       "      <td>Quarterly</td>\n",
       "      <td>Q</td>\n",
       "      <td>Percent</td>\n",
       "      <td>%</td>\n",
       "      <td>Seasonally Adjusted</td>\n",
       "      <td>SA</td>\n",
       "      <td>2024-12-16 13:46:34-06:00</td>\n",
       "      <td>0</td>\n",
       "      <td>OECD Data Filters:  REF_AREA: ZAF MEASURE: UNE...</td>\n",
       "    </tr>\n",
       "  </tbody>\n",
       "</table>\n",
       "<p>75 rows × 15 columns</p>\n",
       "</div>"
      ],
      "text/plain": [
       "                              id realtime_start realtime_end  \\\n",
       "series id                                                      \n",
       "LRUN64TTZAQ156S  LRUN64TTZAQ156S     2025-01-05   2025-01-05   \n",
       "LRUN64TTZAA156S  LRUN64TTZAA156S     2025-01-05   2025-01-05   \n",
       "LRUN64TTZAQ156N  LRUN64TTZAQ156N     2025-01-05   2025-01-05   \n",
       "LRUN64TTZAA156N  LRUN64TTZAA156N     2025-01-05   2025-01-05   \n",
       "LRUNTTTTZAQ156S  LRUNTTTTZAQ156S     2025-01-05   2025-01-05   \n",
       "...                          ...            ...          ...   \n",
       "LRUNTTMAZAQ156S  LRUNTTMAZAQ156S     2025-01-05   2025-01-05   \n",
       "LRUNTTFEZAA156N  LRUNTTFEZAA156N     2025-01-05   2025-01-05   \n",
       "LRUNTTFEZAA156S  LRUNTTFEZAA156S     2025-01-05   2025-01-05   \n",
       "LRUNTTFEZAQ156N  LRUNTTFEZAQ156N     2025-01-05   2025-01-05   \n",
       "LRUNTTFEZAQ156S  LRUNTTFEZAQ156S     2025-01-05   2025-01-05   \n",
       "\n",
       "                                                             title  \\\n",
       "series id                                                            \n",
       "LRUN64TTZAQ156S  Infra-Annual Labor Statistics: Unemployment Ra...   \n",
       "LRUN64TTZAA156S  Infra-Annual Labor Statistics: Unemployment Ra...   \n",
       "LRUN64TTZAQ156N  Infra-Annual Labor Statistics: Unemployment Ra...   \n",
       "LRUN64TTZAA156N  Infra-Annual Labor Statistics: Unemployment Ra...   \n",
       "LRUNTTTTZAQ156S  Infra-Annual Labor Statistics: Unemployment Ra...   \n",
       "...                                                            ...   \n",
       "LRUNTTMAZAQ156S  Infra-Annual Labor Statistics: Unemployment Ra...   \n",
       "LRUNTTFEZAA156N  Infra-Annual Labor Statistics: Unemployment Ra...   \n",
       "LRUNTTFEZAA156S  Infra-Annual Labor Statistics: Unemployment Ra...   \n",
       "LRUNTTFEZAQ156N  Infra-Annual Labor Statistics: Unemployment Ra...   \n",
       "LRUNTTFEZAQ156S  Infra-Annual Labor Statistics: Unemployment Ra...   \n",
       "\n",
       "                observation_start observation_end  frequency frequency_short  \\\n",
       "series id                                                                      \n",
       "LRUN64TTZAQ156S        2000-07-01      2024-07-01  Quarterly               Q   \n",
       "LRUN64TTZAA156S        2000-01-01      2023-01-01     Annual               A   \n",
       "LRUN64TTZAQ156N        2000-07-01      2024-07-01  Quarterly               Q   \n",
       "LRUN64TTZAA156N        2000-01-01      2023-01-01     Annual               A   \n",
       "LRUNTTTTZAQ156S        2000-07-01      2024-07-01  Quarterly               Q   \n",
       "...                           ...             ...        ...             ...   \n",
       "LRUNTTMAZAQ156S        2000-07-01      2024-07-01  Quarterly               Q   \n",
       "LRUNTTFEZAA156N        2000-01-01      2023-01-01     Annual               A   \n",
       "LRUNTTFEZAA156S        2000-01-01      2023-01-01     Annual               A   \n",
       "LRUNTTFEZAQ156N        2000-07-01      2024-07-01  Quarterly               Q   \n",
       "LRUNTTFEZAQ156S        2000-07-01      2024-07-01  Quarterly               Q   \n",
       "\n",
       "                   units units_short      seasonal_adjustment  \\\n",
       "series id                                                       \n",
       "LRUN64TTZAQ156S  Percent           %      Seasonally Adjusted   \n",
       "LRUN64TTZAA156S  Percent           %      Seasonally Adjusted   \n",
       "LRUN64TTZAQ156N  Percent           %  Not Seasonally Adjusted   \n",
       "LRUN64TTZAA156N  Percent           %  Not Seasonally Adjusted   \n",
       "LRUNTTTTZAQ156S  Percent           %      Seasonally Adjusted   \n",
       "...                  ...         ...                      ...   \n",
       "LRUNTTMAZAQ156S  Percent           %      Seasonally Adjusted   \n",
       "LRUNTTFEZAA156N  Percent           %  Not Seasonally Adjusted   \n",
       "LRUNTTFEZAA156S  Percent           %      Seasonally Adjusted   \n",
       "LRUNTTFEZAQ156N  Percent           %  Not Seasonally Adjusted   \n",
       "LRUNTTFEZAQ156S  Percent           %      Seasonally Adjusted   \n",
       "\n",
       "                seasonal_adjustment_short               last_updated  \\\n",
       "series id                                                              \n",
       "LRUN64TTZAQ156S                        SA  2024-12-16 13:44:03-06:00   \n",
       "LRUN64TTZAA156S                        SA  2024-04-10 11:19:05-05:00   \n",
       "LRUN64TTZAQ156N                       NSA  2024-12-16 13:44:18-06:00   \n",
       "LRUN64TTZAA156N                       NSA  2024-04-10 11:41:08-05:00   \n",
       "LRUNTTTTZAQ156S                        SA  2024-12-16 13:44:18-06:00   \n",
       "...                                   ...                        ...   \n",
       "LRUNTTMAZAQ156S                        SA  2024-12-16 13:46:33-06:00   \n",
       "LRUNTTFEZAA156N                       NSA  2024-04-10 12:23:47-05:00   \n",
       "LRUNTTFEZAA156S                        SA  2024-04-10 12:23:47-05:00   \n",
       "LRUNTTFEZAQ156N                       NSA  2024-12-16 13:46:34-06:00   \n",
       "LRUNTTFEZAQ156S                        SA  2024-12-16 13:46:34-06:00   \n",
       "\n",
       "                popularity                                              notes  \n",
       "series id                                                                      \n",
       "LRUN64TTZAQ156S         29  OECD Data Filters:  REF_AREA: ZAF MEASURE: UNE...  \n",
       "LRUN64TTZAA156S          2  OECD Data Filters:  REF_AREA: ZAF MEASURE: UNE...  \n",
       "LRUN64TTZAQ156N          2  OECD Data Filters:  REF_AREA: ZAF MEASURE: UNE...  \n",
       "LRUN64TTZAA156N          1  OECD Data Filters:  REF_AREA: ZAF MEASURE: UNE...  \n",
       "LRUNTTTTZAQ156S          5  OECD Data Filters:  REF_AREA: ZAF MEASURE: UNE...  \n",
       "...                    ...                                                ...  \n",
       "LRUNTTMAZAQ156S          0  OECD Data Filters:  REF_AREA: ZAF MEASURE: UNE...  \n",
       "LRUNTTFEZAA156N          0  OECD Data Filters:  REF_AREA: ZAF MEASURE: UNE...  \n",
       "LRUNTTFEZAA156S          0  OECD Data Filters:  REF_AREA: ZAF MEASURE: UNE...  \n",
       "LRUNTTFEZAQ156N          0  OECD Data Filters:  REF_AREA: ZAF MEASURE: UNE...  \n",
       "LRUNTTFEZAQ156S          0  OECD Data Filters:  REF_AREA: ZAF MEASURE: UNE...  \n",
       "\n",
       "[75 rows x 15 columns]"
      ]
     },
     "execution_count": 4,
     "metadata": {},
     "output_type": "execute_result"
    }
   ],
   "source": [
    "# Fred\n",
    "from fredapi import Fred\n",
    "fred = Fred(api_key=fred_key)\n",
    "\n",
    "\n",
    "#Search Economic data\n",
    "sa_gni_search = fred.search(\"south africa gni\")\n",
    "sa_unemploymentRate_search = fred.search(\"south africa unemployment\")\n",
    "\n",
    "#Display Economic data\n",
    "sa_gni_search \n",
    "sa_unemploymentRate_search"
   ]
  },
  {
   "cell_type": "code",
   "execution_count": 5,
   "id": "7d04cb6a",
   "metadata": {
    "execution": {
     "iopub.execute_input": "2025-01-05T20:48:15.766938Z",
     "iopub.status.busy": "2025-01-05T20:48:15.766535Z",
     "iopub.status.idle": "2025-01-05T20:48:16.317836Z",
     "shell.execute_reply": "2025-01-05T20:48:16.316361Z"
    },
    "papermill": {
     "duration": 0.558004,
     "end_time": "2025-01-05T20:48:16.320302",
     "exception": false,
     "start_time": "2025-01-05T20:48:15.762298",
     "status": "completed"
    },
    "tags": []
   },
   "outputs": [
    {
     "name": "stdout",
     "output_type": "stream",
     "text": [
      "\n",
      "\n"
     ]
    }
   ],
   "source": [
    "#Display series \n",
    "    \n",
    "sa_gni = fred.get_series('MKTGNIZAA646NWDB', observation_start='2015-01-01'  ) # GNI\n",
    "print(\"\\n\")\n",
    "sa_unemploymentRate = fred.get_series('LRUN64TTZAA156S', observation_start='2015-01-01'  ) # Unemployment Rate"
   ]
  },
  {
   "cell_type": "code",
   "execution_count": 6,
   "id": "d362a68a",
   "metadata": {
    "execution": {
     "iopub.execute_input": "2025-01-05T20:48:16.328680Z",
     "iopub.status.busy": "2025-01-05T20:48:16.328179Z",
     "iopub.status.idle": "2025-01-05T20:48:16.686078Z",
     "shell.execute_reply": "2025-01-05T20:48:16.684544Z"
    },
    "papermill": {
     "duration": 0.364547,
     "end_time": "2025-01-05T20:48:16.688310",
     "exception": false,
     "start_time": "2025-01-05T20:48:16.323763",
     "status": "completed"
    },
    "tags": []
   },
   "outputs": [
    {
     "data": {
      "text/plain": [
       "<Axes: >"
      ]
     },
     "execution_count": 6,
     "metadata": {},
     "output_type": "execute_result"
    },
    {
     "data": {
      "image/png": "[encoded data removed]",
      "text/plain": [
       "<Figure size 640x480 with 1 Axes>"
      ]
     },
     "metadata": {},
     "output_type": "display_data"
    }
   ],
   "source": [
    "#plot \n",
    "sa_gni.plot()"
   ]
  },
  {
   "cell_type": "code",
   "execution_count": 7,
   "id": "f38f4c33",
   "metadata": {
    "execution": {
     "iopub.execute_input": "2025-01-05T20:48:16.698790Z",
     "iopub.status.busy": "2025-01-05T20:48:16.698350Z",
     "iopub.status.idle": "2025-01-05T20:48:16.903446Z",
     "shell.execute_reply": "2025-01-05T20:48:16.902041Z"
    },
    "papermill": {
     "duration": 0.21288,
     "end_time": "2025-01-05T20:48:16.905720",
     "exception": false,
     "start_time": "2025-01-05T20:48:16.692840",
     "status": "completed"
    },
    "tags": []
   },
   "outputs": [
    {
     "data": {
      "text/plain": [
       "<Axes: >"
      ]
     },
     "execution_count": 7,
     "metadata": {},
     "output_type": "execute_result"
    },
    {
     "data": {
      "image/png": "[encoded data removed]",
      "text/plain": [
       "<Figure size 640x480 with 1 Axes>"
      ]
     },
     "metadata": {},
     "output_type": "display_data"
    }
   ],
   "source": [
    "sa_unemploymentRate.plot()"
   ]
  }
 ],
 "metadata": {
  "kaggle": {
   "accelerator": "none",
   "dataSources": [],
   "dockerImageVersionId": 30822,
   "isGpuEnabled": false,
   "isInternetEnabled": true,
   "language": "python",
   "sourceType": "notebook"
  },
  "kernelspec": {
   "display_name": "Python 3",
   "language": "python",
   "name": "python3"
  },
  "language_info": {
   "codemirror_mode": {
    "name": "ipython",
    "version": 3
   },
   "file_extension": ".py",
   "mimetype": "text/x-python",
   "name": "python",
   "nbconvert_exporter": "python",
   "pygments_lexer": "ipython3",
   "version": "3.10.12"
  },
  "papermill": {
   "default_parameters": {},
   "duration": 12.909983,
   "end_time": "2025-01-05T20:48:17.734058",
   "environment_variables": {},
   "exception": null,
   "input_path": "__notebook__.ipynb",
   "output_path": "__notebook__.ipynb",
   "parameters": {},
   "start_time": "2025-01-05T20:48:04.824075",
   "version": "2.6.0"
  }
 },
 "nbformat": 4,
 "nbformat_minor": 5
}
