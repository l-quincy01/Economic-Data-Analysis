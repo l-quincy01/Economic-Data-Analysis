{
 "cells": [
  {
   "cell_type": "code",
   "execution_count": 1,
   "id": "107a12fa",
   "metadata": {
    "_cell_guid": "b1076dfc-b9ad-4769-8c92-a6c4dae69d19",
    "_uuid": "8f2839f25d086af736a60e9eeb907d3b93b6e0e5",
    "execution": {
     "iopub.execute_input": "2025-01-05T19:44:31.732467Z",
     "iopub.status.busy": "2025-01-05T19:44:31.732065Z",
     "iopub.status.idle": "2025-01-05T19:44:32.114630Z",
     "shell.execute_reply": "2025-01-05T19:44:32.113517Z"
    },
    "papermill": {
     "duration": 0.387905,
     "end_time": "2025-01-05T19:44:32.116573",
     "exception": false,
     "start_time": "2025-01-05T19:44:31.728668",
     "status": "completed"
    },
    "tags": []
   },
   "outputs": [],
   "source": [
    "# This Python 3 environment comes with many helpful analytics libraries installed\n",
    "# It is defined by the kaggle/python Docker image: https://github.com/kaggle/docker-python\n",
    "# For example, here's several helpful packages to load\n",
    "\n",
    "import numpy as np # linear algebra\n",
    "import pandas as pd # data processing, CSV file I/O (e.g. pd.read_csv)\n",
    "\n",
    "# Input data files are available in the read-only \"../input/\" directory\n",
    "# For example, running this (by clicking run or pressing Shift+Enter) will list all files under the input directory\n",
    "\n",
    "import os\n",
    "for dirname, _, filenames in os.walk('/kaggle/input'):\n",
    "    for filename in filenames:\n",
    "        print(os.path.join(dirname, filename))\n",
    "\n",
    "# You can write up to 20GB to the current directory (/kaggle/working/) that gets preserved as output when you create a version using \"Save & Run All\" \n",
    "# You can also write temporary files to /kaggle/temp/, but they won't be saved outside of the current session"
   ]
  },
  {
   "cell_type": "code",
   "execution_count": 2,
   "id": "b280250d",
   "metadata": {
    "execution": {
     "iopub.execute_input": "2025-01-05T19:44:32.121705Z",
     "iopub.status.busy": "2025-01-05T19:44:32.121212Z",
     "iopub.status.idle": "2025-01-05T19:44:32.497110Z",
     "shell.execute_reply": "2025-01-05T19:44:32.495998Z"
    },
    "papermill": {
     "duration": 0.380462,
     "end_time": "2025-01-05T19:44:32.499208",
     "exception": false,
     "start_time": "2025-01-05T19:44:32.118746",
     "status": "completed"
    },
    "tags": []
   },
   "outputs": [],
   "source": [
    "import pandas as pd\n",
    "import numpy as np \n",
    "import matplotlib.pyplot as plt\n",
    "import plotly.express as px \n",
    "\n"
   ]
  },
  {
   "cell_type": "code",
   "execution_count": 3,
   "id": "6abb001b",
   "metadata": {
    "execution": {
     "iopub.execute_input": "2025-01-05T19:44:32.506228Z",
     "iopub.status.busy": "2025-01-05T19:44:32.505708Z",
     "iopub.status.idle": "2025-01-05T19:44:38.524148Z",
     "shell.execute_reply": "2025-01-05T19:44:38.522945Z"
    },
    "papermill": {
     "duration": 6.023404,
     "end_time": "2025-01-05T19:44:38.526187",
     "exception": false,
     "start_time": "2025-01-05T19:44:32.502783",
     "status": "completed"
    },
    "tags": []
   },
   "outputs": [
    {
     "name": "stdout",
     "output_type": "stream",
     "text": [
      "Collecting fredapi\r\n",
      "  Downloading fredapi-0.5.2-py3-none-any.whl.metadata (5.0 kB)\r\n",
      "Requirement already satisfied: pandas in /usr/local/lib/python3.10/dist-packages (from fredapi) (2.1.4)\r\n",
      "Requirement already satisfied: numpy<2,>=1.22.4 in /usr/local/lib/python3.10/dist-packages (from pandas->fredapi) (1.26.4)\r\n",
      "Requirement already satisfied: python-dateutil>=2.8.2 in /usr/local/lib/python3.10/dist-packages (from pandas->fredapi) (2.8.2)\r\n",
      "Requirement already satisfied: pytz>=2020.1 in /usr/local/lib/python3.10/dist-packages (from pandas->fredapi) (2024.2)\r\n",
      "Requirement already satisfied: tzdata>=2022.1 in /usr/local/lib/python3.10/dist-packages (from pandas->fredapi) (2024.1)\r\n",
      "Requirement already satisfied: six>=1.5 in /usr/local/lib/python3.10/dist-packages (from python-dateutil>=2.8.2->pandas->fredapi) (1.16.0)\r\n",
      "Downloading fredapi-0.5.2-py3-none-any.whl (11 kB)\r\n",
      "Installing collected packages: fredapi\r\n",
      "Successfully installed fredapi-0.5.2\r\n"
     ]
    }
   ],
   "source": [
    "!pip install fredapi "
   ]
  }
 ],
 "metadata": {
  "kaggle": {
   "accelerator": "none",
   "dataSources": [],
   "dockerImageVersionId": 30822,
   "isGpuEnabled": false,
   "isInternetEnabled": true,
   "language": "python",
   "sourceType": "notebook"
  },
  "kernelspec": {
   "display_name": "Python 3",
   "language": "python",
   "name": "python3"
  },
  "language_info": {
   "codemirror_mode": {
    "name": "ipython",
    "version": 3
   },
   "file_extension": ".py",
   "mimetype": "text/x-python",
   "name": "python",
   "nbconvert_exporter": "python",
   "pygments_lexer": "ipython3",
   "version": "3.10.12"
  },
  "papermill": {
   "default_parameters": {},
   "duration": 9.648558,
   "end_time": "2025-01-05T19:44:39.149440",
   "environment_variables": {},
   "exception": null,
   "input_path": "__notebook__.ipynb",
   "output_path": "__notebook__.ipynb",
   "parameters": {},
   "start_time": "2025-01-05T19:44:29.500882",
   "version": "2.6.0"
  }
 },
 "nbformat": 4,
 "nbformat_minor": 5
}
